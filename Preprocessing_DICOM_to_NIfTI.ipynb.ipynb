{
 "cells": [
  {
   "cell_type": "markdown",
   "id": "76651aa4-b328-4c66-b7ba-4d5e56340c40",
   "metadata": {},
   "source": [
    "# Preprocessing: conversion of DICOM files into NIfTI files"
   ]
  },
  {
   "cell_type": "code",
   "execution_count": null,
   "id": "6LAi8q4QI_ou",
   "metadata": {
    "id": "6LAi8q4QI_ou"
   },
   "outputs": [],
   "source": [
    "# Install pydicom, a library for handling DICOM medical images\n",
    "!pip install pydicom"
   ]
  },
  {
   "cell_type": "code",
   "execution_count": null,
   "id": "GD_zSsYUiw1d",
   "metadata": {
    "id": "GD_zSsYUiw1d"
   },
   "outputs": [],
   "source": [
    "import os\n",
    "import numpy as np\n",
    "import pydicom\n",
    "import nibabel as nib\n",
    "from scipy import ndimage\n",
    "import math"
   ]
  },
  {
   "cell_type": "code",
   "execution_count": null,
   "id": "-Y9m3YrAiw1e",
   "metadata": {
    "id": "-Y9m3YrAiw1e"
   },
   "outputs": [],
   "source": [
    "def normalize(image):\n",
    "    \"\"\"\n",
    "    Normalize pixel values of a DICOM image.\n",
    "\n",
    "    - Values below 0 are set to 0.\n",
    "    - Values above 500 are set to 500.\n",
    "    - The image is then scaled between 0 and 1.\n",
    "\n",
    "    This normalization focuses on Hounsfield Units (HU) values\n",
    "    relevant for brain and hematoma regions.\n",
    "    \"\"\"\n",
    "    image[image < 0] = 0   # Set all negative values to 0\n",
    "    image[image > 500] = 500  # Cap all values above 500\n",
    "    image = image / 500  # Normalize to range [0, 1]\n",
    "    return image"
   ]
  },
  {
   "cell_type": "code",
   "execution_count": null,
   "id": "nrw0l9fYiw1f",
   "metadata": {
    "id": "nrw0l9fYiw1f"
   },
   "outputs": [],
   "source": [
    "def get_processed_images(path):\n",
    "    \"\"\"\n",
    "    Read a DICOM file and process it.\n",
    "\n",
    "    - Reads the pixel array from the DICOM file.\n",
    "    - Applies RescaleIntercept to adjust pixel values.\n",
    "    - Normalizes the image.\n",
    "    - Returns the processed image rounded to 10 decimal places.\n",
    "    \"\"\"\n",
    "    dicom_file = pydicom.dcmread(path)  # Read the DICOM file\n",
    "    image = dicom_file.pixel_array + dicom_file.RescaleIntercept  # Apply intensity adjustment\n",
    "    image = normalize(image)  # Normalize the image\n",
    "    return image.round(10)  # Round to 10 decimal places"
   ]
  },
  {
   "cell_type": "code",
   "execution_count": null,
   "id": "baP0APbUr347",
   "metadata": {
    "id": "baP0APbUr347"
   },
   "outputs": [],
   "source": [
    "def process_and_save_subfolders(input_folders, output_folder):\n",
    "    \"\"\"\n",
    "    Process DICOM images in the given folders and save each subfolder as a single .nii.gz file.\n",
    "\n",
    "    - Reads DICOM files from multiple input folders.\n",
    "    - Stacks the processed images into a 3D NIfTI volume.\n",
    "    - Saves each subfolder’s images as a single .nii.gz file.\n",
    "    \"\"\"\n",
    "    if not os.path.exists(output_folder):\n",
    "        os.makedirs(output_folder)  # Create output folder if it doesn't exist\n",
    "\n",
    "    subfolder_count = 0  # Initialize subfolder counter\n",
    "\n",
    "    # Collect all subfolders from input directories\n",
    "    all_subfolders = []\n",
    "    for folder in input_folders:\n",
    "        for root, dirs, _ in os.walk(folder):\n",
    "            all_subfolders.extend([os.path.join(root, d) for d in dirs])\n",
    "\n",
    "    all_subfolders = sorted(all_subfolders)  # Sort subfolders alphabetically\n",
    "\n",
    "    for subfolder in all_subfolders:\n",
    "        # Get list of DICOM files in the subfolder\n",
    "        dicom_files = [f for f in os.listdir(subfolder) if f.lower().endswith('.dcm')]\n",
    "\n",
    "        # Sort files based on InstanceNumber (slice order)\n",
    "        dicom_files = sorted(dicom_files, key=lambda f: int(pydicom.dcmread(os.path.join(subfolder, f)).InstanceNumber))\n",
    "\n",
    "        if dicom_files:\n",
    "            processed_images = []  # List to store processed images\n",
    "\n",
    "            # Process each DICOM file in the subfolder\n",
    "            for dicom_file in dicom_files:\n",
    "                dicom_path = os.path.join(subfolder, dicom_file)\n",
    "                processed_image = get_processed_images(dicom_path)\n",
    "                processed_images.append(processed_image)\n",
    "\n",
    "            # Stack the processed images into a 3D volume (height, width, num_slices)\n",
    "            volume = np.stack(processed_images, axis=-1)  # Stack along the last dimension\n",
    "            print(f\"Final volume shape: {volume.shape}\")  # Should print (512, 512, num_slices)\n",
    "\n",
    "            # Create a NIfTI image\n",
    "            nifti_image = nib.Nifti1Image(volume, affine=np.eye(4))\n",
    "\n",
    "            # Save the volume as a single .nii.gz file\n",
    "            subfolder_count += 1\n",
    "            subfolder_id = f\"{subfolder_count:03d}\"  # Format as three-digit number (e.g., 001, 002)\n",
    "            output_file_name = f\"case_{subfolder_id}_0000.nii.gz\"\n",
    "            output_file_path = os.path.join(output_folder, output_file_name)\n",
    "\n",
    "            nib.save(nifti_image, output_file_path)  # Save the NIfTI file\n",
    "            print(f\"Saved: {output_file_path}\")"
   ]
  },
  {
   "cell_type": "code",
   "execution_count": null,
   "id": "lauhOKTVJAIj",
   "metadata": {
    "id": "lauhOKTVJAIj"
   },
   "outputs": [],
   "source": [
    "# Define paths to the DICOM dataset folders (modify as needed)\n",
    "input_folders = \"PATH1\"  # Replace with your input folder paths\n",
    "output_folder = \"PATH2\"  # Replace with your output folder path\n",
    "\n",
    "# Process all subfolders and save NIfTI files\n",
    "process_and_save_subfolders(input_folders, output_folder)"
   ]
  }
 ],
 "metadata": {
  "colab": {
   "gpuClass": "premium",
   "machine_shape": "hm",
   "provenance": []
  },
  "kernelspec": {
   "display_name": "Python [conda env:base] *",
   "language": "python",
   "name": "conda-base-py"
  },
  "language_info": {
   "codemirror_mode": {
    "name": "ipython",
    "version": 3
   },
   "file_extension": ".py",
   "mimetype": "text/x-python",
   "name": "python",
   "nbconvert_exporter": "python",
   "pygments_lexer": "ipython3",
   "version": "3.12.7"
  },
  "varInspector": {
   "cols": {
    "lenName": 16,
    "lenType": 16,
    "lenVar": 40
   },
   "kernels_config": {
    "python": {
     "delete_cmd_postfix": "",
     "delete_cmd_prefix": "del ",
     "library": "var_list.py",
     "varRefreshCmd": "print(var_dic_list())"
    },
    "r": {
     "delete_cmd_postfix": ") ",
     "delete_cmd_prefix": "rm(",
     "library": "var_list.r",
     "varRefreshCmd": "cat(var_dic_list()) "
    }
   },
   "types_to_exclude": [
    "module",
    "function",
    "builtin_function_or_method",
    "instance",
    "_Feature"
   ],
   "window_display": false
  }
 },
 "nbformat": 4,
 "nbformat_minor": 5
}
